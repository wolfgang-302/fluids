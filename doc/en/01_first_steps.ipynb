{
 "cells": [
  {
   "cell_type": "code",
   "execution_count": 1,
   "id": "3e0fb4a0",
   "metadata": {},
   "outputs": [
    {
     "data": {
      "application/javascript": [
       "IPython.notebook.set_autosave_interval(3600000)"
      ]
     },
     "metadata": {},
     "output_type": "display_data"
    },
    {
     "name": "stdout",
     "output_type": "stream",
     "text": [
      "Autosaving every 3600 seconds\n"
     ]
    }
   ],
   "source": [
    "%autosave 3600"
   ]
  },
  {
   "cell_type": "markdown",
   "id": "43ac2541",
   "metadata": {},
   "source": [
    "# Getting started with  `fluids`. \n",
    "\n",
    "The module `fluids` can be used to determine the state variables of fluids such as air, water or refrigerants such as R134a, R290.\n",
    "\n",
    "There is also the possibility of determining the state variables of humid air.\n",
    "\n",
    "Almost all calculations in `fluids` are performed with the help of `CoolProp`. The `fluids` module only provides a wrapper for a simplified call to the functions `CoolProps.CoolProps.HAPropsSI` (for humid air) and \n",
    "`CoolProps.CoolProps.PropsSI` for other fluids in Jupyter Notebooks using a python kernel.\n",
    "\n",
    "The module `fluids` provides the objects `fluid_factory`, `Q_` (or equivalently `Quantity`), `T_0` and `p_amb`. They are imported into Jupyter Notebooks with python kernel as usual:"
   ]
  },
  {
   "cell_type": "code",
   "execution_count": 2,
   "id": "8ece092a",
   "metadata": {},
   "outputs": [],
   "source": [
    "from fluids import fluid_factory, Q_, T_0, p_amb"
   ]
  },
  {
   "cell_type": "markdown",
   "id": "c611905e",
   "metadata": {},
   "source": [
    "## The objects `T_0` and `p_amb`\n",
    "\n",
    "- The object `T_0` is the numerical value of the temperature\n",
    "$T_0 = 273.15\\,\\mathrm{K} = 0\\,°\\mathrm{C}$\n",
    "in $\\mathrm{K}$.\n",
    "- The object `p_amb` is the numerical value of the air pressure\n",
    "$p_\\text{amb} = 101325\\,\\mathrm{Pa}$\n",
    "in $\\mathrm{Pa}$"
   ]
  },
  {
   "cell_type": "code",
   "execution_count": 3,
   "id": "95b6cf3d",
   "metadata": {},
   "outputs": [
    {
     "data": {
      "text/plain": [
       "(273.15, 101325)"
      ]
     },
     "execution_count": 3,
     "metadata": {},
     "output_type": "execute_result"
    }
   ],
   "source": [
    "(T_0, p_amb)"
   ]
  },
  {
   "cell_type": "markdown",
   "id": "9c077a87",
   "metadata": {},
   "source": [
    "## The object `Q_`\n",
    "\n",
    "The object `Q_` (or equivalently `Quantity`) is a class that comes from the module `pint` and allows working with unit-related quantities. Good information about `pint` can be found at\n",
    "\n",
    "https://pint.readthedocs.io/en/stable/\n",
    "\n",
    "As an example, the distance $s = 120\\,\\mathrm{km}$ and the time $t = 2\\,\\mathrm{h}$ are definded as quantities:"
   ]
  },
  {
   "cell_type": "code",
   "execution_count": 4,
   "id": "adcf34a0",
   "metadata": {},
   "outputs": [
    {
     "data": {
      "text/html": [
       "120 kilometer"
      ],
      "text/latex": [
       "$120\\ \\mathrm{kilometer}$"
      ],
      "text/plain": [
       "120 <Unit('kilometer')>"
      ]
     },
     "execution_count": 4,
     "metadata": {},
     "output_type": "execute_result"
    }
   ],
   "source": [
    "s = Q_(120,'km')\n",
    "s"
   ]
  },
  {
   "cell_type": "code",
   "execution_count": 5,
   "id": "d76d2d3a",
   "metadata": {},
   "outputs": [
    {
     "data": {
      "text/html": [
       "2 hour"
      ],
      "text/latex": [
       "$2\\ \\mathrm{hour}$"
      ],
      "text/plain": [
       "2 <Unit('hour')>"
      ]
     },
     "execution_count": 5,
     "metadata": {},
     "output_type": "execute_result"
    }
   ],
   "source": [
    "t = Q_(2,'hour') # Attention: hour, not h!\n",
    "t"
   ]
  },
  {
   "cell_type": "markdown",
   "id": "b5967c26",
   "metadata": {},
   "source": [
    "When defining a quantity, its numerical value and physical unit must be specified. Quantities can correctly handle mathematical operations including other quantities. If the distance $s$ defined above is travelled in the time $t$, the speed is\n",
    "\n",
    "\n",
    "$$\n",
    "  v = \\frac{s}{t}\n",
    "$$"
   ]
  },
  {
   "cell_type": "code",
   "execution_count": 6,
   "id": "8c7a2715",
   "metadata": {},
   "outputs": [
    {
     "data": {
      "text/html": [
       "60.0 kilometer/hour"
      ],
      "text/latex": [
       "$60.0\\ \\frac{\\mathrm{kilometer}}{\\mathrm{hour}}$"
      ],
      "text/plain": [
       "60.0 <Unit('kilometer / hour')>"
      ]
     },
     "execution_count": 6,
     "metadata": {},
     "output_type": "execute_result"
    }
   ],
   "source": [
    "v = s/t\n",
    "v"
   ]
  },
  {
   "cell_type": "markdown",
   "id": "15a61978",
   "metadata": {},
   "source": [
    "Within the object `Q_` the additional properties \n",
    "`Q_.base_value = Q_.bv`\n",
    " have been defined. \n",
    " \n",
    " This allows to query the numerical value of a quantity in its base units:"
   ]
  },
  {
   "cell_type": "code",
   "execution_count": 7,
   "id": "c9876d1b",
   "metadata": {},
   "outputs": [
    {
     "data": {
      "text/html": [
       "16.666666666666668 meter/second"
      ],
      "text/latex": [
       "$16.666666666666668\\ \\frac{\\mathrm{meter}}{\\mathrm{second}}$"
      ],
      "text/plain": [
       "16.666666666666668 <Unit('meter / second')>"
      ]
     },
     "execution_count": 7,
     "metadata": {},
     "output_type": "execute_result"
    }
   ],
   "source": [
    "v.to_base_units()"
   ]
  },
  {
   "cell_type": "code",
   "execution_count": 8,
   "id": "6545ef41",
   "metadata": {},
   "outputs": [
    {
     "data": {
      "text/plain": [
       "16.666666666666668"
      ]
     },
     "execution_count": 8,
     "metadata": {},
     "output_type": "execute_result"
    }
   ],
   "source": [
    "v.bv"
   ]
  },
  {
   "cell_type": "markdown",
   "id": "3929d71a",
   "metadata": {},
   "source": [
    "In heating, ventilation and air conditioning applications (HVAC), the units `percent` and `ppM` (parts per million) are frequently used. These are additionally defined inside `Q_`:"
   ]
  },
  {
   "cell_type": "code",
   "execution_count": 9,
   "id": "4942c79c",
   "metadata": {},
   "outputs": [
    {
     "data": {
      "text/html": [
       "80 percent"
      ],
      "text/latex": [
       "$80\\ \\mathrm{percent}$"
      ],
      "text/plain": [
       "80 <Unit('percent')>"
      ]
     },
     "execution_count": 9,
     "metadata": {},
     "output_type": "execute_result"
    }
   ],
   "source": [
    "eta = Q_(80,'percent')\n",
    "eta"
   ]
  },
  {
   "cell_type": "code",
   "execution_count": 10,
   "id": "c3b23c00",
   "metadata": {},
   "outputs": [
    {
     "data": {
      "text/plain": [
       "0.8"
      ]
     },
     "execution_count": 10,
     "metadata": {},
     "output_type": "execute_result"
    }
   ],
   "source": [
    "eta.bv"
   ]
  },
  {
   "cell_type": "code",
   "execution_count": 11,
   "id": "7e4128a1",
   "metadata": {},
   "outputs": [
    {
     "data": {
      "text/html": [
       "300 ppM"
      ],
      "text/latex": [
       "$300\\ \\mathrm{ppM}$"
      ],
      "text/plain": [
       "300 <Unit('ppM')>"
      ]
     },
     "execution_count": 11,
     "metadata": {},
     "output_type": "execute_result"
    }
   ],
   "source": [
    "k = Q_(300,'ppM')\n",
    "k"
   ]
  },
  {
   "cell_type": "code",
   "execution_count": 12,
   "id": "75077eb0",
   "metadata": {},
   "outputs": [
    {
     "data": {
      "text/plain": [
       "0.0003"
      ]
     },
     "execution_count": 12,
     "metadata": {},
     "output_type": "execute_result"
    }
   ],
   "source": [
    "k.bv"
   ]
  },
  {
   "cell_type": "markdown",
   "id": "62e4df3d",
   "metadata": {},
   "source": [
    "For a more intensive study of `pint` and the objects imported from it, please refer to the documentation mentioned above."
   ]
  },
  {
   "cell_type": "markdown",
   "id": "df9e62e4",
   "metadata": {},
   "source": [
    "## The object `fluid_factory`"
   ]
  },
  {
   "cell_type": "markdown",
   "id": "1f296dbb",
   "metadata": {},
   "source": [
    "There are three parameters for the function `fluid_factory(...)`:\n",
    "\n",
    "`Class_object = fluid_factory(Fluid, with_units=False, p_default=p_amb)`\n",
    "\n",
    "The first parameter is mandatory and defines the substance to which this class applies.\n",
    "\n",
    "All substances listet on the site\n",
    "\n",
    "http://www.coolprop.org/coolprop/HighLevelAPI.html#table-of-string-inputs-to-propssi-function\n",
    "\n",
    "can be used by `fluids`, as well as `Fluid='HumidAir'` for humid air. For all fluids except HumidAir, the calculations are performed by the function\n",
    "`CoolProp.CoolProp.PropsSI(...)`,\n",
    " for HumidAir the function\n",
    "`CoolProp.CoolProp.HAPropsSI(...)`\n",
    " is used.\n",
    " \n",
    "The parameter `p_default=pressure` is only defined for humid air (`fluid='HumidAir'`).\n",
    "\n",
    "For working with the fluid R134a, define:"
   ]
  },
  {
   "cell_type": "code",
   "execution_count": 13,
   "id": "0ead3be9",
   "metadata": {},
   "outputs": [],
   "source": [
    "R_134a = fluid_factory('R134a')\n",
    "\n",
    "# or, with units\n",
    "R_134a_wu = fluid_factory('R134a',with_units=True) "
   ]
  },
  {
   "cell_type": "markdown",
   "id": "452634b7",
   "metadata": {},
   "source": [
    "Given two independent state variables of a fluid, other state variables of this fluid can be determined. The next cell gives a list of all state variables available in `fluids`:"
   ]
  },
  {
   "cell_type": "code",
   "execution_count": 14,
   "id": "337a9538",
   "metadata": {},
   "outputs": [
    {
     "data": {
      "text/plain": [
       "{'P': 'Pa',\n",
       " 'Pcrit': 'Pa',\n",
       " 'T': 'K',\n",
       " 'Tcrit': 'K',\n",
       " 'D': 'kg/m**3',\n",
       " 'H': 'J/kg',\n",
       " 'U': 'J/kg',\n",
       " 'S': 'J/kg/K',\n",
       " 'A': 'm/s',\n",
       " 'L': 'W/m/K',\n",
       " 'M': 'kg/mol',\n",
       " 'C': 'J/kg/K',\n",
       " 'CVMASS': 'J/kg/K',\n",
       " 'Q': '',\n",
       " 'Z': '',\n",
       " 'V': 'Pa*s'}"
      ]
     },
     "execution_count": 14,
     "metadata": {},
     "output_type": "execute_result"
    }
   ],
   "source": [
    "R_134a.acceptable_args"
   ]
  },
  {
   "cell_type": "markdown",
   "id": "06e6e1f3",
   "metadata": {},
   "source": [
    "\n",
    "Quantity | Unit     | Description\n",
    "---------|----------|----------\n",
    "P        | Pa       | Pressure\n",
    "Pcrit    | Pa       | Pressure at the critical point\n",
    "T        | K        | Temperature\n",
    "Tcrit    | K        | Temperature at the critical point\n",
    "D        | kg/m**3  | Mass density\n",
    "H        | J/kg     | Mass specific enthalpy\n",
    "U        | J/kg     | Mass specific internal energy\n",
    "S        | J/kg/K   | Mass specific entropy\n",
    "A        | m/s      | Speed of sound\n",
    "L        | W/m/K    | Thermal conductivity\n",
    "M        | kg/mol   | Molar mass\n",
    "C        | J/kg/K   | Mass specific constant pressure specific heat\n",
    "CVMASS   | J/kg/K   | Mass specific constant volume specific heat\n",
    "Q        |          | Mass vapor quality\n",
    "Z        |          | Compressibility factor\n",
    "V        | Pa*s     | Viscosity"
   ]
  },
  {
   "cell_type": "markdown",
   "id": "7b849dd8",
   "metadata": {},
   "source": [
    "Given `P = Q_(3,'bar')`, `Q=1` define a point of state `p_1` by"
   ]
  },
  {
   "cell_type": "code",
   "execution_count": 15,
   "id": "04cf1265",
   "metadata": {},
   "outputs": [],
   "source": [
    "p_1 = R_134a(\n",
    "    P=3e5, # Pressure in Pa\n",
    "    Q=1, # 100 % Mass vapor quality\n",
    "    name='P_1', # Description\n",
    ")"
   ]
  },
  {
   "cell_type": "markdown",
   "id": "3a59ede8",
   "metadata": {},
   "source": [
    "Now, the state variables of this point can be accessed using"
   ]
  },
  {
   "cell_type": "code",
   "execution_count": 16,
   "id": "75fee5aa",
   "metadata": {},
   "outputs": [
    {
     "data": {
      "text/plain": [
       "{'P': 300000.0,\n",
       " 'Pcrit': 4059280.0,\n",
       " 'T': 273.8220637378023,\n",
       " 'Tcrit': 374.21,\n",
       " 'D': 14.77016899135526,\n",
       " 'H': 398995.14983938605,\n",
       " 'U': 378683.9401182525,\n",
       " 'S': 1726.7154045245545,\n",
       " 'A': 146.92176214179275,\n",
       " 'L': 0.011573008727678398,\n",
       " 'M': 0.102032,\n",
       " 'C': 900.2905743515173,\n",
       " 'CVMASS': 762.780273201937,\n",
       " 'Q': 1,\n",
       " 'Z': 0.910267690403166,\n",
       " 'V': 1.0750853518667919e-05}"
      ]
     },
     "execution_count": 16,
     "metadata": {},
     "output_type": "execute_result"
    }
   ],
   "source": [
    "p_1.args"
   ]
  },
  {
   "cell_type": "markdown",
   "id": "a6a99655",
   "metadata": {},
   "source": [
    "Each available state variable `arg` of a point of state `pos` can be queried as `pos.arg`, i.e."
   ]
  },
  {
   "cell_type": "code",
   "execution_count": 17,
   "id": "1cabee96",
   "metadata": {},
   "outputs": [
    {
     "data": {
      "text/plain": [
       "273.8220637378023"
      ]
     },
     "execution_count": 17,
     "metadata": {},
     "output_type": "execute_result"
    }
   ],
   "source": [
    "p_1.T # Temperature of p_1 in K"
   ]
  },
  {
   "cell_type": "markdown",
   "id": "50e59732",
   "metadata": {},
   "source": [
    "In degree centigrade this is"
   ]
  },
  {
   "cell_type": "code",
   "execution_count": 18,
   "id": "c0c5b392",
   "metadata": {},
   "outputs": [
    {
     "data": {
      "text/plain": [
       "0.6720637378023184"
      ]
     },
     "execution_count": 18,
     "metadata": {},
     "output_type": "execute_result"
    }
   ],
   "source": [
    "p_1.T-T_0 # Temperature of p_1 in °C"
   ]
  },
  {
   "cell_type": "markdown",
   "id": "577336f8",
   "metadata": {},
   "source": [
    "## Consideration of units"
   ]
  },
  {
   "cell_type": "markdown",
   "id": "400d0363",
   "metadata": {},
   "source": [
    "If the parameter `with_units=True` is specified when calling `fluid_factory`, the generated class expects the input of quantities with units and outputs the results with units:"
   ]
  },
  {
   "cell_type": "code",
   "execution_count": 19,
   "id": "49ab4112",
   "metadata": {},
   "outputs": [
    {
     "name": "stdout",
     "output_type": "stream",
     "text": [
      "       P = 300000.0 Pa\n",
      "   Pcrit = 4059280.0 Pa\n",
      "       T = 273.8220637378023 K\n",
      "   Tcrit = 374.21 K\n",
      "       D = 14.77016899135526 kg/m³\n",
      "       H = 398995.14983938605 J/kg\n",
      "       U = 378683.9401182525 J/kg\n",
      "       S = 1726.7154045245545 J/K/kg\n",
      "       A = 146.92176214179275 m/s\n",
      "       L = 0.011573008727678398 W/K/m\n",
      "       M = 0.102032 kg/mol\n",
      "       C = 900.2905743515173 J/K/kg\n",
      "  CVMASS = 762.780273201937 J/K/kg\n",
      "       Q = 1\n",
      "       Z = 0.910267690403166\n",
      "       V = 1.0750853518667919×10⁻⁵ Pa·s\n"
     ]
    }
   ],
   "source": [
    "p_1_wu = R_134a_wu(P=Q_(3,'bar'),Q=1,name='P_1_wu')\n",
    "for k,v in p_1_wu.args.items():\n",
    "    print(f'{k:>8} = {v:~P}')"
   ]
  },
  {
   "cell_type": "markdown",
   "id": "84c1da82",
   "metadata": {},
   "source": [
    "Temperature `T` and specific enthalpy `H` can be queried as"
   ]
  },
  {
   "cell_type": "code",
   "execution_count": 20,
   "id": "141d4444",
   "metadata": {},
   "outputs": [
    {
     "data": {
      "text/plain": [
       "(0.6720637378023184 <Unit('degree_Celsius')>,\n",
       " 398.99514983938604 <Unit('kilojoule / kilogram')>)"
      ]
     },
     "execution_count": 20,
     "metadata": {},
     "output_type": "execute_result"
    }
   ],
   "source": [
    "p_1_wu.T.to('degC'), p_1_wu.H.to('kJ/kg')"
   ]
  },
  {
   "cell_type": "markdown",
   "id": "39e0385b",
   "metadata": {},
   "source": [
    "or prettyprinted (see `pint` for details):"
   ]
  },
  {
   "cell_type": "code",
   "execution_count": 21,
   "id": "6b24e76f",
   "metadata": {},
   "outputs": [
    {
     "name": "stdout",
     "output_type": "stream",
     "text": [
      "T = 0.7 °C\n",
      "h = 399.0 kJ/kg\n"
     ]
    }
   ],
   "source": [
    "print(f\"T = {p_1_wu.T.to('degC').round(1):~P}\")\n",
    "print(f\"h = {p_1_wu.H.to('kJ/kg').round(2):~P}\")"
   ]
  },
  {
   "cell_type": "markdown",
   "id": "1ac53df5",
   "metadata": {},
   "source": [
    "## Humid Air"
   ]
  },
  {
   "cell_type": "markdown",
   "id": "0e580179",
   "metadata": {},
   "source": [
    "Humid air is a special case determined by the function\n",
    "\n",
    "`CoolProp.CoolProp.HAPropsSI`.\n",
    "\n",
    "It is a mixture of dry air and water vapour. Humid air plays a major role in heating, ventilation and air conditioning applications (HVAC).\n",
    "\n",
    "The call\n",
    "\n",
    "`HA = fluid_factory('HumidAir',with_units=False,P_default=p_amb)`\n",
    "\n",
    "defines a class `HA` without units having a default pressure of `p_amb = 101325 # Pa`. A different value can be set here by specifying a value for `P_default`.\n",
    "\n",
    "Calculations are often performed with humid air for a certain pressure `P = P_default`. This default print does not have to be specified in the class call.\n",
    "\n",
    "The following state variables are returned:"
   ]
  },
  {
   "cell_type": "markdown",
   "id": "a9cc8316",
   "metadata": {},
   "source": [
    "Quantity | Unit     | Description\n",
    "---------|----------|----------\n",
    "       P |       Pa | Pressure\n",
    "       W |          | Humidity Ratio\n",
    "       T |        K | Temperature\n",
    "       R |          | Relative humidity in [0, 1]\n",
    "       H |     J/kg | Mixture enthalpy per unit dry air\n",
    "       S |   J/kg/K | Mixture entropy per unit dry air\n",
    "       B |        K | Wet-Bulb Temperature\n",
    "       D |        K | Dew-Point Temperature\n",
    "     Vda |  m**3/kg | Mixture volume per unit dry air\n",
    "     Vha |  m**3/kg | Mixture volume per unit humid air\n",
    "       M |     Pa*s | Mixture viscosity\n",
    "       K |    W/m/K | Mixture thermal conductivity\n",
    "       C |   J/kg/K | Mixture specific heat per unit dry air\n",
    "     P_w |       Pa | Partial pressure of water vapor\n",
    "   psi_w |          | Water mole fraction"
   ]
  },
  {
   "cell_type": "code",
   "execution_count": 22,
   "id": "adc87f7c",
   "metadata": {},
   "outputs": [],
   "source": [
    "HA = fluid_factory('HumidAir')\n",
    "# or\n",
    "HA_wu = fluid_factory('HumidAir',with_units=True)"
   ]
  },
  {
   "cell_type": "markdown",
   "id": "2502fd3e",
   "metadata": {},
   "source": [
    "Given two independed variables of state and a pressure a point of state is defined by\n",
    "\n",
    "`point_of_state = HA(arg_1=value_1,arg_2=value_2,P=pressure, name='point_of_state')`\n",
    "\n",
    "If `P = pressure` is not given, `P=HA._P_default` is used. This value is `p_amb=101325#Pa` if not specified otherwise. \n",
    "\n",
    "Not all combinations of state variables lead to valid points of state. The humidity ration `W` and the partial pressure of water vapor, `P_w` are not independend and do not define a point of state of humid air."
   ]
  },
  {
   "cell_type": "code",
   "execution_count": 23,
   "id": "74f0d619",
   "metadata": {},
   "outputs": [],
   "source": [
    "p_ra = HA(\n",
    "    T=T_0+20, # Temperature 20°C in K\n",
    "    R=50e-2, # relative humidity 50%\n",
    "    name='P_ra', # description \n",
    ")"
   ]
  },
  {
   "cell_type": "code",
   "execution_count": 24,
   "id": "ae995759",
   "metadata": {},
   "outputs": [
    {
     "data": {
      "text/plain": [
       "101325"
      ]
     },
     "execution_count": 24,
     "metadata": {},
     "output_type": "execute_result"
    }
   ],
   "source": [
    "p_ra.P # default pressure"
   ]
  },
  {
   "cell_type": "code",
   "execution_count": 25,
   "id": "063c27d1",
   "metadata": {},
   "outputs": [
    {
     "data": {
      "text/plain": [
       "{'P': 101325,\n",
       " 'W': 0.007293697701992549,\n",
       " 'T': 293.15,\n",
       " 'R': 0.5,\n",
       " 'H': 38622.83892391293,\n",
       " 'S': 139.97016819060187,\n",
       " 'B': 286.92646885824075,\n",
       " 'D': 282.42442581534783,\n",
       " 'Vda': 0.8398598461778416,\n",
       " 'Vha': 0.8337785177191823,\n",
       " 'M': 1.814316044123345e-05,\n",
       " 'K': 0.025866132503697774,\n",
       " 'C': 1019.8524499561333,\n",
       " 'P_w': 1174.488985425371,\n",
       " 'psi_w': 0.011591305062179829}"
      ]
     },
     "execution_count": 25,
     "metadata": {},
     "output_type": "execute_result"
    }
   ],
   "source": [
    "p_ra.args # all state variables"
   ]
  },
  {
   "cell_type": "code",
   "execution_count": 26,
   "id": "3b6a2f58",
   "metadata": {},
   "outputs": [],
   "source": [
    "p_au = HA(\n",
    "    T=T_0+32, # Temperature 32°C in K\n",
    "    W=12.5e-3, # humidity ratio 12.5 g/kg\n",
    "    P=95000, # pressure in Pa\n",
    "    name='P_au', # description\n",
    ")"
   ]
  },
  {
   "cell_type": "code",
   "execution_count": 27,
   "id": "bbc1d582",
   "metadata": {},
   "outputs": [
    {
     "data": {
      "text/plain": [
       "95000"
      ]
     },
     "execution_count": 27,
     "metadata": {},
     "output_type": "execute_result"
    }
   ],
   "source": [
    "p_au.P"
   ]
  },
  {
   "cell_type": "code",
   "execution_count": 28,
   "id": "f9c93e4d",
   "metadata": {},
   "outputs": [
    {
     "data": {
      "text/plain": [
       "{'P': 95000,\n",
       " 'W': 0.0125,\n",
       " 'T': 305.15,\n",
       " 'R': 0.3915860024997451,\n",
       " 'H': 64201.6232700863,\n",
       " 'S': 246.28275870267447,\n",
       " 'B': 294.37165339135277,\n",
       " 'D': 289.53847417616043,\n",
       " 'Vda': 0.9402603926054235,\n",
       " 'Vha': 0.9286522396102949,\n",
       " 'M': 1.866272841573761e-05,\n",
       " 'K': 0.026729337864609244,\n",
       " 'C': 1030.027877849346,\n",
       " 'P_w': 1871.71464823586,\n",
       " 'psi_w': 0.019702259455114318}"
      ]
     },
     "execution_count": 28,
     "metadata": {},
     "output_type": "execute_result"
    }
   ],
   "source": [
    "p_au.args # all registered state variables"
   ]
  },
  {
   "cell_type": "markdown",
   "id": "685f9fde",
   "metadata": {},
   "source": [
    "Not all values lead to valid results.\n",
    "\n",
    "Having humidity ratio `W > Q_(14.76...,'g/kg')`  and temperature `T=Q_(20,'degC')` there is no valid result for the relaive humidity `R`:"
   ]
  },
  {
   "cell_type": "code",
   "execution_count": 29,
   "id": "efc2ff1c",
   "metadata": {},
   "outputs": [
    {
     "name": "stdout",
     "output_type": "stream",
     "text": [
      "The output for key (7) with value (1.01584) is outside the range of validity: (0) to (1) :: inputs were:\"R\",\"T\",2.9314999999999998e+02,\"W\",1.4999999999999999e-02,\"P\",1.0132500000000000e+05 \n"
     ]
    }
   ],
   "source": [
    "try:\n",
    "    pt = HA_wu(T=Q_(20,'degC'),W=Q_(15,'g/kg'))\n",
    "    print(pt.R)\n",
    "except Exception as e:\n",
    "    print(e)"
   ]
  },
  {
   "cell_type": "markdown",
   "id": "709b7c6d",
   "metadata": {},
   "source": [
    "In this case, also calling `pt.args` fails:"
   ]
  },
  {
   "cell_type": "code",
   "execution_count": 30,
   "id": "3b00ac65",
   "metadata": {},
   "outputs": [
    {
     "name": "stdout",
     "output_type": "stream",
     "text": [
      "The output for key (7) with value (1.01584) is outside the range of validity: (0) to (1) :: inputs were:\"R\",\"T\",2.9314999999999998e+02,\"W\",1.4999999999999999e-02,\"P\",1.0132500000000000e+05 \n"
     ]
    }
   ],
   "source": [
    "try:\n",
    "    pt.args\n",
    "except Exception as e:\n",
    "    print(e)"
   ]
  },
  {
   "cell_type": "markdown",
   "id": "19703b19",
   "metadata": {},
   "source": [
    "Using `pt.args_or_errormessages` gives all existing state variables or an errormessage:"
   ]
  },
  {
   "cell_type": "code",
   "execution_count": 31,
   "id": "2379efbd",
   "metadata": {},
   "outputs": [
    {
     "data": {
      "text/plain": [
       "{'P': 101325.0 <Unit('pascal')>,\n",
       " 'W': 0.015 <Unit('dimensionless')>,\n",
       " 'T': 293.15 <Unit('kelvin')>,\n",
       " 'R': ValueError('The output for key (7) with value (1.01584) is outside the range of validity: (0) to (1) :: inputs were:\"R\",\"T\",2.9314999999999998e+02,\"W\",1.4999999999999999e-02,\"P\",1.0132500000000000e+05 '),\n",
       " 'H': 58166.431230093214 <Unit('joule / kilogram')>,\n",
       " 'S': 207.78828664668217 <Unit('joule / kelvin / kilogram')>,\n",
       " 'B': 293.3257073663906 <Unit('kelvin')>,\n",
       " 'D': 293.4039498500014 <Unit('kelvin')>,\n",
       " 'Vda': 0.8501068744940903 <Unit('meter ** 3 / kilogram')>,\n",
       " 'Vha': 0.8375437187133894 <Unit('meter ** 3 / kilogram')>,\n",
       " 'M': 1.8078509265290083e-05 <Unit('pascal * second')>,\n",
       " 'K': 0.025858022919239887 <Unit('watt / kelvin / meter')>,\n",
       " 'C': 1034.5556663027326 <Unit('joule / kelvin / kilogram')>,\n",
       " 'P_w': 2386.1950403881024 <Unit('pascal')>,\n",
       " 'psi_w': 0.023549914042813744 <Unit('dimensionless')>}"
      ]
     },
     "execution_count": 31,
     "metadata": {},
     "output_type": "execute_result"
    }
   ],
   "source": [
    "pt.args_or_errormessages"
   ]
  }
 ],
 "metadata": {
  "kernelspec": {
   "display_name": "Python 3 (ipykernel)",
   "language": "python",
   "name": "python3"
  },
  "language_info": {
   "codemirror_mode": {
    "name": "ipython",
    "version": 3
   },
   "file_extension": ".py",
   "mimetype": "text/x-python",
   "name": "python",
   "nbconvert_exporter": "python",
   "pygments_lexer": "ipython3",
   "version": "3.10.5"
  }
 },
 "nbformat": 4,
 "nbformat_minor": 5
}
