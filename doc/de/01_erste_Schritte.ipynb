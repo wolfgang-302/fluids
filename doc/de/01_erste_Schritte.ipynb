{
 "cells": [
  {
   "cell_type": "code",
   "execution_count": 1,
   "id": "3e0fb4a0",
   "metadata": {},
   "outputs": [
    {
     "data": {
      "application/javascript": [
       "IPython.notebook.set_autosave_interval(3600000)"
      ]
     },
     "metadata": {},
     "output_type": "display_data"
    },
    {
     "name": "stdout",
     "output_type": "stream",
     "text": [
      "Autosaving every 3600 seconds\n"
     ]
    }
   ],
   "source": [
    "%autosave 3600"
   ]
  },
  {
   "cell_type": "markdown",
   "id": "4c9b1bb5",
   "metadata": {},
   "source": [
    "# Erste Schritte mit dem Modul `fluids`"
   ]
  },
  {
   "cell_type": "markdown",
   "id": "ae0fc347",
   "metadata": {},
   "source": [
    "Das Modul `fluids` kann genutzt werden, um Zustandsgrößen von Fluiden, wie Luft, Wasser oder Kältemitteln wie R134a, R290, zu ermitteln. \n",
    "\n",
    "Weiter besteht die Möglichkeit, die Zustandsgrößen feuchter Luft zu ermitteln."
   ]
  },
  {
   "cell_type": "markdown",
   "id": "c9cb2913",
   "metadata": {},
   "source": [
    "Fast alle Berechnungen in `fluids` werden mit Hilfe von `CoolProp` durchgeführt. Das Modul `fluids` stellt lediglich einen Wrapper zur Verfügung, der in Jupyter Notebooks einen vereinfachten Aufruf der Funktionen `CoolProps.CoolProps.HAPropsSi` (für feuchte Luft) und `CoolProps.CoolProps.PropsSi` für andere Fluide zur Verfügung stellt."
   ]
  },
  {
   "cell_type": "markdown",
   "id": "aa3e0416",
   "metadata": {},
   "source": [
    "Von `fluids` werden die Objekte `fluid_factory`, `Q_` (oder gleichwertig `Quantity`), `T_0` sowie `p_amb` zur Verfügung gestellt. Sie werden wie üblich in Pythonprogrammen oder Jupyter Notebooks importiert:"
   ]
  },
  {
   "cell_type": "code",
   "execution_count": 2,
   "id": "8ece092a",
   "metadata": {},
   "outputs": [],
   "source": [
    "from fluids import fluid_factory, Q_, T_0, p_amb"
   ]
  },
  {
   "cell_type": "markdown",
   "id": "29e17ad2",
   "metadata": {},
   "source": [
    "## Die Größen `T_0` und `p_amb`"
   ]
  },
  {
   "cell_type": "markdown",
   "id": "ea7e8061",
   "metadata": {},
   "source": [
    "- Die Größe `T_0` ist der Zahlenwert der Temperatur \n",
    "$T_0 = 273.15\\,\\mathrm{K} = 0\\,°\\mathrm{C}$\n",
    "in $\\mathrm{K}$.\n",
    "- Die Größe `p_amb` ist der Zahlenwert des Luftdrucks \n",
    "$p_\\text{amb} = 101325\\,\\mathrm{Pa}$ \n",
    "in $\\mathrm{Pa}$"
   ]
  },
  {
   "cell_type": "code",
   "execution_count": 3,
   "id": "95b6cf3d",
   "metadata": {},
   "outputs": [
    {
     "data": {
      "text/plain": [
       "(273.15, 101325)"
      ]
     },
     "execution_count": 3,
     "metadata": {},
     "output_type": "execute_result"
    }
   ],
   "source": [
    "(T_0, p_amb)"
   ]
  },
  {
   "cell_type": "markdown",
   "id": "bb28aacb",
   "metadata": {},
   "source": [
    "## Das Objekt `Q_`"
   ]
  },
  {
   "cell_type": "markdown",
   "id": "e9686ddc",
   "metadata": {},
   "source": [
    "Das Objekt `Q_` (oder gleichwertig `Quantity`) stammt aus dem Modul `pint` und ermöglicht das Arbeiten mit einheitenbehafteten Größen. Einen guten Überblick über die Möglichkeiten von `pint` findet man unter\n",
    "\n",
    "https://pint.readthedocs.io/en/stable/\n",
    "\n",
    "Als Beispiel werden die Strecke $s = 120\\,\\mathrm{km}$ und die Zeit $t = 2\\,\\mathrm{h}$ als Größen dargestellt:"
   ]
  },
  {
   "cell_type": "code",
   "execution_count": 4,
   "id": "adcf34a0",
   "metadata": {},
   "outputs": [
    {
     "data": {
      "text/html": [
       "120 kilometer"
      ],
      "text/latex": [
       "$120\\ \\mathrm{kilometer}$"
      ],
      "text/plain": [
       "120 <Unit('kilometer')>"
      ]
     },
     "execution_count": 4,
     "metadata": {},
     "output_type": "execute_result"
    }
   ],
   "source": [
    "s = Q_(120,'km')\n",
    "s"
   ]
  },
  {
   "cell_type": "code",
   "execution_count": 5,
   "id": "d76d2d3a",
   "metadata": {},
   "outputs": [
    {
     "data": {
      "text/html": [
       "2 hour"
      ],
      "text/latex": [
       "$2\\ \\mathrm{hour}$"
      ],
      "text/plain": [
       "2 <Unit('hour')>"
      ]
     },
     "execution_count": 5,
     "metadata": {},
     "output_type": "execute_result"
    }
   ],
   "source": [
    "t = Q_(2,'hour') # Achtung: hour, nicht h!\n",
    "t"
   ]
  },
  {
   "cell_type": "markdown",
   "id": "b5967c26",
   "metadata": {},
   "source": [
    "Beim Aufruf einer Größe ist ein Zahlenwert und eine Einheit anzugeben. Mit einheitenbehafteten Größen kann gerechnet werden. Wird die oben definierte Strecke $s$ in der Zeit $t$ zurückgelegt, so ist die Geschwindigkeit\n",
    "\n",
    "$$\n",
    "  v = \\frac{s}{t}\n",
    "$$"
   ]
  },
  {
   "cell_type": "code",
   "execution_count": 6,
   "id": "8c7a2715",
   "metadata": {},
   "outputs": [
    {
     "data": {
      "text/html": [
       "60.0 kilometer/hour"
      ],
      "text/latex": [
       "$60.0\\ \\frac{\\mathrm{kilometer}}{\\mathrm{hour}}$"
      ],
      "text/plain": [
       "60.0 <Unit('kilometer / hour')>"
      ]
     },
     "execution_count": 6,
     "metadata": {},
     "output_type": "execute_result"
    }
   ],
   "source": [
    "v = s/t\n",
    "v"
   ]
  },
  {
   "cell_type": "markdown",
   "id": "f6721812",
   "metadata": {},
   "source": [
    "Innerhalb des Moduls `fluids` sind für das Objekt `Q_` die zusätzlichen Properties\n",
    "\n",
    "`Q_.base_value = Q_.bv`\n",
    "\n",
    "definiert worden. Damit lässt sich der Zahlenwert einer Größe in Grundeinheiten angeben:"
   ]
  },
  {
   "cell_type": "code",
   "execution_count": 7,
   "id": "c9876d1b",
   "metadata": {},
   "outputs": [
    {
     "data": {
      "text/html": [
       "16.666666666666668 meter/second"
      ],
      "text/latex": [
       "$16.666666666666668\\ \\frac{\\mathrm{meter}}{\\mathrm{second}}$"
      ],
      "text/plain": [
       "16.666666666666668 <Unit('meter / second')>"
      ]
     },
     "execution_count": 7,
     "metadata": {},
     "output_type": "execute_result"
    }
   ],
   "source": [
    "v.to_base_units()"
   ]
  },
  {
   "cell_type": "code",
   "execution_count": 8,
   "id": "6545ef41",
   "metadata": {},
   "outputs": [
    {
     "data": {
      "text/plain": [
       "16.666666666666668"
      ]
     },
     "execution_count": 8,
     "metadata": {},
     "output_type": "execute_result"
    }
   ],
   "source": [
    "v.bv"
   ]
  },
  {
   "cell_type": "markdown",
   "id": "e4ada564",
   "metadata": {},
   "source": [
    "In den Anwendungen der Heizungs-, Lüftungs- und Klimatechnik werden häufig die Einheiten Prozent und ppM (part per Million) benutzt. Diese wurden zusätzlich definiert:"
   ]
  },
  {
   "cell_type": "code",
   "execution_count": 9,
   "id": "4942c79c",
   "metadata": {},
   "outputs": [
    {
     "data": {
      "text/html": [
       "80 percent"
      ],
      "text/latex": [
       "$80\\ \\mathrm{percent}$"
      ],
      "text/plain": [
       "80 <Unit('percent')>"
      ]
     },
     "execution_count": 9,
     "metadata": {},
     "output_type": "execute_result"
    }
   ],
   "source": [
    "eta = Q_(80,'percent')\n",
    "eta"
   ]
  },
  {
   "cell_type": "code",
   "execution_count": 10,
   "id": "c3b23c00",
   "metadata": {},
   "outputs": [
    {
     "data": {
      "text/plain": [
       "0.8"
      ]
     },
     "execution_count": 10,
     "metadata": {},
     "output_type": "execute_result"
    }
   ],
   "source": [
    "eta.bv"
   ]
  },
  {
   "cell_type": "code",
   "execution_count": 11,
   "id": "7e4128a1",
   "metadata": {},
   "outputs": [
    {
     "data": {
      "text/html": [
       "300 ppM"
      ],
      "text/latex": [
       "$300\\ \\mathrm{ppM}$"
      ],
      "text/plain": [
       "300 <Unit('ppM')>"
      ]
     },
     "execution_count": 11,
     "metadata": {},
     "output_type": "execute_result"
    }
   ],
   "source": [
    "k = Q_(300,'ppM')\n",
    "k"
   ]
  },
  {
   "cell_type": "code",
   "execution_count": 12,
   "id": "75077eb0",
   "metadata": {},
   "outputs": [
    {
     "data": {
      "text/plain": [
       "0.0003"
      ]
     },
     "execution_count": 12,
     "metadata": {},
     "output_type": "execute_result"
    }
   ],
   "source": [
    "k.bv"
   ]
  },
  {
   "cell_type": "markdown",
   "id": "3e6ee1f6",
   "metadata": {},
   "source": [
    "Für eine intensivere Beschäftigung mit den Möglichkeiten von `pint` und den daraus importierten Objekten wird auf die oben genannte Dokumentation verwiesen."
   ]
  },
  {
   "cell_type": "markdown",
   "id": "df9e62e4",
   "metadata": {},
   "source": [
    "## Das Objekt `fluid_factory`"
   ]
  },
  {
   "cell_type": "markdown",
   "id": "ab0cc993",
   "metadata": {},
   "source": [
    "Für das Objekt `fluid_factory` existieren drei Aufrufparameter:\n",
    "\n",
    "`Klasse = fluid_factory(Stoff, with_units=False, p_default=p_amb)`\n",
    "\n",
    "Der erste Parameter ist obligatorisch und definiert den Stoff, für den diese Klasse gilt.\n",
    "\n",
    "Zulässig sind alle Stoffe, die auf der Seite\n",
    "\n",
    "http://www.coolprop.org/coolprop/HighLevelAPI.html#table-of-string-inputs-to-propssi-function\n",
    "\n",
    "aufgeführt sind, sowie `Stoff='HumidAir'` für feuchte Luft. Für alle Stoffe außer `HumidAir` werden die konkreten Berechnungen durch die Funktion\n",
    "\n",
    "`CoolProp.CoolProp.PropsSi(...)`\n",
    "\n",
    "durchgeführt, für `HumidAir` wird die Funktion\n",
    "\n",
    "`CoolProp.CoolProp.HAPropsSi(...)`\n",
    "\n",
    "benutzt.\n",
    "\n",
    "Der Parameter `p_default=Druck` ist nur für feuchte Luft (`Stoff='HumidAir'`) definiert."
   ]
  },
  {
   "cell_type": "markdown",
   "id": "484786d2",
   "metadata": {},
   "source": [
    "Wird mit einem Fluid, zum Beispiel R134a gearbeitet, so lautet der Aufruf"
   ]
  },
  {
   "cell_type": "code",
   "execution_count": 13,
   "id": "0ead3be9",
   "metadata": {},
   "outputs": [],
   "source": [
    "R_134a = fluid_factory('R134a')\n",
    "\n",
    "# oder\n",
    "R_134a_wu = fluid_factory('R134a',with_units=True)"
   ]
  },
  {
   "cell_type": "markdown",
   "id": "122fc4e2",
   "metadata": {},
   "source": [
    "Sind zwei unabhängige Zustandsgrößen bekannt, so lassen sich die weiteren Zustandsgrößen berechnen. Die folgenden Zustandsgrößen werden von `fluids` standardmäßig berücksichtigt:"
   ]
  },
  {
   "cell_type": "code",
   "execution_count": 14,
   "id": "337a9538",
   "metadata": {},
   "outputs": [
    {
     "data": {
      "text/plain": [
       "{'P': 'Pa',\n",
       " 'Pcrit': 'Pa',\n",
       " 'T': 'K',\n",
       " 'Tcrit': 'K',\n",
       " 'D': 'kg/m**3',\n",
       " 'H': 'J/kg',\n",
       " 'U': 'J/kg',\n",
       " 'S': 'J/kg/K',\n",
       " 'A': 'm/s',\n",
       " 'L': 'W/m/K',\n",
       " 'M': 'kg/mol',\n",
       " 'C': 'J/kg/K',\n",
       " 'CVMASS': 'J/kg/K',\n",
       " 'Q': '',\n",
       " 'Z': '',\n",
       " 'V': 'Pa*s'}"
      ]
     },
     "execution_count": 14,
     "metadata": {},
     "output_type": "execute_result"
    }
   ],
   "source": [
    "R_134a.acceptable_args"
   ]
  },
  {
   "cell_type": "markdown",
   "id": "06e6e1f3",
   "metadata": {},
   "source": [
    "\n",
    "Größe    | Einheit  | Bedeutung\n",
    "---------|----------|----------\n",
    "P        | Pa       | Druck\n",
    "Pcrit    | Pa       | kritischer Druk\n",
    "T        | K        | Temperatur\n",
    "Tcrit    | K        | kritische Temperatur\n",
    "D        | kg/m**3  | Dichte\n",
    "H        | J/kg     | spezifische Enthalpie\n",
    "U        | J/kg     | spezifische innere Energie\n",
    "S        | J/kg/K   | spezifische Entropie\n",
    "A        | m/s      | Schallgeschwindigkeit\n",
    "L        | W/m/K    | Wärmeleitfähigkeit\n",
    "M        | kg/mol   | Molmasse\n",
    "C        | J/kg/K   | spezifische Wärmekapazität bei p=const\n",
    "CVMASS   | J/kg/K   | spezifische Wärmekapazität bei v=const\n",
    "Q        |          | Dampfanteil im Nassdampf oder -1\n",
    "Z        |          | Kompressibilität \n",
    "V        | Pa*s     | Viskosität"
   ]
  },
  {
   "cell_type": "markdown",
   "id": "33e38a9b",
   "metadata": {},
   "source": [
    "Durch `P = 3bar`, `Q=1` ist ein Zustandspunkt bei einem Druck von 3bar bei 100% Sattdampf festgelegt. Dieser Punkt wird durch den Aufruf"
   ]
  },
  {
   "cell_type": "code",
   "execution_count": 15,
   "id": "04cf1265",
   "metadata": {},
   "outputs": [],
   "source": [
    "p_1 = R_134a(\n",
    "    P=3e5, # Druck in Pa\n",
    "    Q=1, # 100 % Dampf \n",
    "    name='P_1', # Bezeichnung\n",
    ")"
   ]
  },
  {
   "cell_type": "markdown",
   "id": "30ff4c1b",
   "metadata": {},
   "source": [
    "festgelegt. Sobald er festgelegt ist, lassen sich die oben aufgeführten Zustandswerte abrufen:"
   ]
  },
  {
   "cell_type": "code",
   "execution_count": 16,
   "id": "75fee5aa",
   "metadata": {},
   "outputs": [
    {
     "data": {
      "text/plain": [
       "{'P': 300000.0,\n",
       " 'Pcrit': 4059280.0,\n",
       " 'T': 273.8220637378023,\n",
       " 'Tcrit': 374.21,\n",
       " 'D': 14.77016899135526,\n",
       " 'H': 398995.14983938605,\n",
       " 'U': 378683.9401182525,\n",
       " 'S': 1726.7154045245545,\n",
       " 'A': 146.92176214179275,\n",
       " 'L': 0.011573008727678398,\n",
       " 'M': 0.102032,\n",
       " 'C': 900.2905743515173,\n",
       " 'CVMASS': 762.780273201937,\n",
       " 'Q': 1,\n",
       " 'Z': 0.910267690403166,\n",
       " 'V': 1.0750853518667919e-05}"
      ]
     },
     "execution_count": 16,
     "metadata": {},
     "output_type": "execute_result"
    }
   ],
   "source": [
    "p_1.args"
   ]
  },
  {
   "cell_type": "markdown",
   "id": "a6a99655",
   "metadata": {},
   "source": [
    "Die einzelnen Zustandsgößen lassen sich als Eigenschaften des Punktes in der Form\n",
    "`Punkt.Eigenschaft` abrufen, z.B."
   ]
  },
  {
   "cell_type": "code",
   "execution_count": 17,
   "id": "1cabee96",
   "metadata": {},
   "outputs": [
    {
     "data": {
      "text/plain": [
       "273.8220637378023"
      ]
     },
     "execution_count": 17,
     "metadata": {},
     "output_type": "execute_result"
    }
   ],
   "source": [
    "p_1.T # Temperatur des Punktes p_1 in K"
   ]
  },
  {
   "cell_type": "markdown",
   "id": "50e59732",
   "metadata": {},
   "source": [
    "Das Ergebnis ist die zu diesem Punkt gehörende Temperatur von etwa 1°C, genauer:"
   ]
  },
  {
   "cell_type": "code",
   "execution_count": 18,
   "id": "c0c5b392",
   "metadata": {},
   "outputs": [
    {
     "data": {
      "text/plain": [
       "0.6720637378023184"
      ]
     },
     "execution_count": 18,
     "metadata": {},
     "output_type": "execute_result"
    }
   ],
   "source": [
    "p_1.T-T_0 # Temperatur des Punktes p_1 in °C"
   ]
  },
  {
   "cell_type": "markdown",
   "id": "f1ec502e",
   "metadata": {},
   "source": [
    "In Jupyter Notebooks ist es häufig übersichtlicher, mit Größen in den technisch benutzten Einheiten arbeiten zu können. Temperaturen werden z.B. in Deutschland in der Regel in °C angegeben statt in K, Enthalpien in kJ/kg statt in J/kg."
   ]
  },
  {
   "cell_type": "markdown",
   "id": "577336f8",
   "metadata": {},
   "source": [
    "## Berücksichtigung von Einheiten"
   ]
  },
  {
   "cell_type": "markdown",
   "id": "33c5fed3",
   "metadata": {},
   "source": [
    "Wird beim Aufruf von `fluid_factory` der Parameter `with_units=True` angegeben, so erwartet die erzeugte Klasse die Eingabe von einheitenbehafteten Größen und gibt die Ergebnisse einheitenbehaftet aus:"
   ]
  },
  {
   "cell_type": "code",
   "execution_count": 19,
   "id": "49ab4112",
   "metadata": {},
   "outputs": [
    {
     "name": "stdout",
     "output_type": "stream",
     "text": [
      "       P = 300000.0 Pa\n",
      "   Pcrit = 4059280.0 Pa\n",
      "       T = 273.8220637378023 K\n",
      "   Tcrit = 374.21 K\n",
      "       D = 14.77016899135526 kg/m³\n",
      "       H = 398995.14983938605 J/kg\n",
      "       U = 378683.9401182525 J/kg\n",
      "       S = 1726.7154045245545 J/K/kg\n",
      "       A = 146.92176214179275 m/s\n",
      "       L = 0.011573008727678398 W/K/m\n",
      "       M = 0.102032 kg/mol\n",
      "       C = 900.2905743515173 J/K/kg\n",
      "  CVMASS = 762.780273201937 J/K/kg\n",
      "       Q = 1\n",
      "       Z = 0.910267690403166\n",
      "       V = 1.0750853518667919×10⁻⁵ Pa·s\n"
     ]
    }
   ],
   "source": [
    "p_1_wu = R_134a_wu(P=Q_(3,'bar'),Q=1,name='P_1_wu')\n",
    "for k,v in p_1_wu.args.items():\n",
    "    print(f'{k:>8} = {v:~P}')"
   ]
  },
  {
   "cell_type": "markdown",
   "id": "84c1da82",
   "metadata": {},
   "source": [
    "Für Temperatur `T` und spezifischer Enthalpie `H` ergibt sich dann beispielsweise:"
   ]
  },
  {
   "cell_type": "code",
   "execution_count": 20,
   "id": "141d4444",
   "metadata": {},
   "outputs": [
    {
     "data": {
      "text/plain": [
       "(0.6720637378023184 <Unit('degree_Celsius')>,\n",
       " 398.99514983938604 <Unit('kilojoule / kilogram')>)"
      ]
     },
     "execution_count": 20,
     "metadata": {},
     "output_type": "execute_result"
    }
   ],
   "source": [
    "p_1_wu.T.to('degC'), p_1_wu.H.to('kJ/kg')"
   ]
  },
  {
   "cell_type": "markdown",
   "id": "39e0385b",
   "metadata": {},
   "source": [
    "Mit den prettyprint-Methoden von `pint` erhält man auch:"
   ]
  },
  {
   "cell_type": "code",
   "execution_count": 21,
   "id": "6b24e76f",
   "metadata": {},
   "outputs": [
    {
     "name": "stdout",
     "output_type": "stream",
     "text": [
      "T = 0.7 °C\n",
      "h = 399.0 kJ/kg\n"
     ]
    }
   ],
   "source": [
    "print(f\"T = {p_1_wu.T.to('degC').round(1):~P}\")\n",
    "print(f\"h = {p_1_wu.H.to('kJ/kg').round(2):~P}\")"
   ]
  },
  {
   "cell_type": "markdown",
   "id": "1ac53df5",
   "metadata": {},
   "source": [
    "## Feuchte Luft"
   ]
  },
  {
   "cell_type": "markdown",
   "id": "525adb10",
   "metadata": {},
   "source": [
    "Feuchte Luft stellt einen Spezialfall dar, der durch die Funktion \n",
    "\n",
    "`CoolProp.CoolProp.HAPropsSi`\n",
    "\n",
    "abgedeckt wird. Es handelt sich um die Mischung von Luft und Wasserdampf. In Anwendungen der Heizungs-, Lüftungs- und Klimatechnik spielt feuchte Luft eine große Rolle.\n",
    "\n",
    "Wird die Funktion \n",
    "\n",
    "`fluid_factory('HumidAir',with_units=False,P_default=p_amb)` \n",
    "\n",
    "nur mit dem erforderlichen Parameter `'HumidAir'` aufgerufen, so wird eine Klasse ohne Einheiten mit dem Defaultdruck `P_default = p_amb = 101325 # Pa` initialisiert. Durch Angabe eines Wertes für `P_default` kann hier ein anderer Wert eingestellt werden.\n",
    "\n",
    "Häufig werden Berechnungen mit feuchter Luft für einen bestimmten Druck `P = P_default` durchgeführt. Dieser Defaultdruck muss im Aufruf der Klasse nicht aufgeführt werden.\n",
    "\n",
    "Die folgenden Zustandsgrößen werden zurückgegeben:"
   ]
  },
  {
   "cell_type": "markdown",
   "id": "a9cc8316",
   "metadata": {},
   "source": [
    "Größe    | Einheit  | Bedeutung\n",
    "---------|----------|----------\n",
    "       P |       Pa | Gesamtdruck\n",
    "       W |          | Wassergehalt, absolute Luftfeuchte\n",
    "       T |        K | Temperatur\n",
    "       R |          | relative Luftfeuchte\n",
    "       H |     J/kg | spezifische Enthalpie\n",
    "       S |   J/kg/K | spezifische Entropie\n",
    "       B |        K | Feuchtkugeltemperatur (bulb point temperature)\n",
    "       D |        K | Taupunkttemperatur (dew point temperature)\n",
    "     Vda |  m**3/kg | spezifisches Volumen des trockenluftanteils der feuchten Luft\n",
    "     Vha |  m**3/kg | spezifisches Volumen der feuchten Luft\n",
    "       M |     Pa*s | Viskosität\n",
    "       K |    W/m/K | Wärmeleitfähigkeit\n",
    "       C |   J/kg/K | spezifische Wärmekapazität bei p=const\n",
    "     P_w |       Pa | Wasserdampfpartialdruck\n",
    "   psi_w |          | Molenbruch des Wassers"
   ]
  },
  {
   "cell_type": "code",
   "execution_count": 22,
   "id": "adc87f7c",
   "metadata": {},
   "outputs": [],
   "source": [
    "HA = fluid_factory('HumidAir')\n",
    "# oder\n",
    "HA_wu = fluid_factory('HumidAir',with_units=True)"
   ]
  },
  {
   "cell_type": "markdown",
   "id": "39a84ed7",
   "metadata": {},
   "source": [
    "Ein konkreter Zustandspunkt feuchter Luft ist eine Instanz der Klasse `HA` (oder `HA_wu`). Er wird durch einen Aufruf der Form\n",
    "\n",
    "`punkt = HA(Größe_1=Wert_1,Größe_2=Wert2,P=Druck,name=name)`\n",
    "\n",
    "festgelegt. In diesem Aufruf sind `Größe_1=Wert1` und `Größe_2=Wert2` obligatorische Parameter. Wird der Parameter `P=Druck` weggelassen, so wird Defaultdruck der Klasse eingesetzt, der bei der Initialisierung der Klasse angegeben wurde."
   ]
  },
  {
   "cell_type": "markdown",
   "id": "d6708f75",
   "metadata": {},
   "source": [
    "Die Parameter `Größe_1` und `Größe_2` müssen voneinander unabhängig sein, um einen Wert eindeutig zu bestimmen. Nicht alle denkbaren Größen lassen sich miteinader kombinieren. So ist es zum Beispiel nicht möglich, einen Zustandspunkt durch Angabe der absoluten Luftfeuchte `W` und des Wasserdamfpartialdrucks `P_w` zu definieren.\n",
    "\n",
    "Als generelle Regel gilt: Führen die Werte `Größe_1=Wert1` und `Größe_2=Wert2` auf einen eindeutig definierten Punkt im hx-Diagramm, so kann dieser Punkt auch für die Klasse definiert werden."
   ]
  },
  {
   "cell_type": "code",
   "execution_count": 23,
   "id": "74f0d619",
   "metadata": {},
   "outputs": [],
   "source": [
    "p_ra = HA(\n",
    "    T=T_0+20, # Temperatur von 20°C in K\n",
    "    R=50e-2, # relative Luftfeuchte 50%\n",
    "    name='P_ra', # Bezeichnung des Punktes\n",
    ")"
   ]
  },
  {
   "cell_type": "code",
   "execution_count": 24,
   "id": "ae995759",
   "metadata": {},
   "outputs": [
    {
     "data": {
      "text/plain": [
       "101325"
      ]
     },
     "execution_count": 24,
     "metadata": {},
     "output_type": "execute_result"
    }
   ],
   "source": [
    "p_ra.P # Defaultdruck, da beim Aufruf kein Druck eingegeben wurde"
   ]
  },
  {
   "cell_type": "code",
   "execution_count": 25,
   "id": "063c27d1",
   "metadata": {},
   "outputs": [
    {
     "data": {
      "text/plain": [
       "{'P': 101325,\n",
       " 'W': 0.007293697701992549,\n",
       " 'T': 293.15,\n",
       " 'R': 0.5,\n",
       " 'H': 38622.83892391293,\n",
       " 'S': 139.97016819060187,\n",
       " 'B': 286.92646885824075,\n",
       " 'D': 282.42442581534783,\n",
       " 'Vda': 0.8398598461778416,\n",
       " 'Vha': 0.8337785177191823,\n",
       " 'M': 1.814316044123345e-05,\n",
       " 'K': 0.025866132503697774,\n",
       " 'C': 1019.8524499561333,\n",
       " 'P_w': 1174.488985425371,\n",
       " 'psi_w': 0.011591305062179829}"
      ]
     },
     "execution_count": 25,
     "metadata": {},
     "output_type": "execute_result"
    }
   ],
   "source": [
    "p_ra.args # alle registrierten Zustandsgrößen"
   ]
  },
  {
   "cell_type": "code",
   "execution_count": 26,
   "id": "3b6a2f58",
   "metadata": {},
   "outputs": [],
   "source": [
    "p_au = HA(\n",
    "    T=T_0+32, # Temperatur von 32°C in K\n",
    "    W=12.5e-3, # absolute Luftfeuchte von 12.5 g/kg\n",
    "    P=95000, # Gesamtdruck in Pa\n",
    "    name='P_au', # Bezeichnung des Punktes\n",
    ")"
   ]
  },
  {
   "cell_type": "code",
   "execution_count": 27,
   "id": "bbc1d582",
   "metadata": {},
   "outputs": [
    {
     "data": {
      "text/plain": [
       "95000"
      ]
     },
     "execution_count": 27,
     "metadata": {},
     "output_type": "execute_result"
    }
   ],
   "source": [
    "p_au.P"
   ]
  },
  {
   "cell_type": "code",
   "execution_count": 28,
   "id": "f9c93e4d",
   "metadata": {},
   "outputs": [
    {
     "data": {
      "text/plain": [
       "{'P': 95000,\n",
       " 'W': 0.0125,\n",
       " 'T': 305.15,\n",
       " 'R': 0.3915860024997451,\n",
       " 'H': 64201.6232700863,\n",
       " 'S': 246.28275870267447,\n",
       " 'B': 294.37165339135277,\n",
       " 'D': 289.53847417616043,\n",
       " 'Vda': 0.9402603926054235,\n",
       " 'Vha': 0.9286522396102949,\n",
       " 'M': 1.866272841573761e-05,\n",
       " 'K': 0.026729337864609244,\n",
       " 'C': 1030.027877849346,\n",
       " 'P_w': 1871.71464823586,\n",
       " 'psi_w': 0.019702259455114318}"
      ]
     },
     "execution_count": 28,
     "metadata": {},
     "output_type": "execute_result"
    }
   ],
   "source": [
    "p_au.args # alle registrierten Zustandsgrößen"
   ]
  },
  {
   "cell_type": "markdown",
   "id": "42c68d47",
   "metadata": {},
   "source": [
    "Es gibt Zustandspunkte, für die nicht alle Größen berechnet werden können: Zum Beispiel ist die relative Luftfeuchte `R` nur für Luftzustände definiert, in denen der Dampfdruck kleiner als der Dampfsättigungsdruck ist. Für eine Temperatur von 20°C ist beispielsweise"
   ]
  },
  {
   "cell_type": "code",
   "execution_count": 29,
   "id": "c9bcbed3",
   "metadata": {},
   "outputs": [
    {
     "data": {
      "text/html": [
       "14.760495260665328 gram/kilogram"
      ],
      "text/latex": [
       "$14.760495260665328\\ \\frac{\\mathrm{gram}}{\\mathrm{kilogram}}$"
      ],
      "text/plain": [
       "14.760495260665328 <Unit('gram / kilogram')>"
      ]
     },
     "execution_count": 29,
     "metadata": {},
     "output_type": "execute_result"
    }
   ],
   "source": [
    "HA_wu(T=Q_(20,'degC'),R=1).W.to('g/kg')"
   ]
  },
  {
   "cell_type": "markdown",
   "id": "685f9fde",
   "metadata": {},
   "source": [
    "Bei einem Wassergehalt von `W > Q_(14.76...,'g/kg'` ist `R` nicht mehr definiert:"
   ]
  },
  {
   "cell_type": "code",
   "execution_count": 30,
   "id": "efc2ff1c",
   "metadata": {},
   "outputs": [
    {
     "name": "stdout",
     "output_type": "stream",
     "text": [
      "The output for key (7) with value (1.01584) is outside the range of validity: (0) to (1) :: inputs were:\"R\",\"T\",2.9314999999999998e+02,\"W\",1.4999999999999999e-02,\"P\",1.0132500000000000e+05 \n"
     ]
    }
   ],
   "source": [
    "try:\n",
    "    pt = HA_wu(T=Q_(20,'degC'),W=Q_(15,'g/kg'))\n",
    "    print(pt.R)\n",
    "except Exception as e:\n",
    "    print(e)"
   ]
  },
  {
   "cell_type": "markdown",
   "id": "709b7c6d",
   "metadata": {},
   "source": [
    "Entsprechend führt in diesem Fall auch der Aufruf `pt.args` zu einem Fehler: "
   ]
  },
  {
   "cell_type": "code",
   "execution_count": 31,
   "id": "3b00ac65",
   "metadata": {},
   "outputs": [
    {
     "name": "stdout",
     "output_type": "stream",
     "text": [
      "The output for key (7) with value (1.01584) is outside the range of validity: (0) to (1) :: inputs were:\"R\",\"T\",2.9314999999999998e+02,\"W\",1.4999999999999999e-02,\"P\",1.0132500000000000e+05 \n"
     ]
    }
   ],
   "source": [
    "try:\n",
    "    pt.args\n",
    "except Exception as e:\n",
    "    print(e)"
   ]
  },
  {
   "cell_type": "markdown",
   "id": "2a1fec42",
   "metadata": {},
   "source": [
    "Andere Zustandsgrößen dieses Zustandspunktes sind allerdings noch definiert. Daher existiert die Methode `Klasse.args_or_errormessages`:"
   ]
  },
  {
   "cell_type": "code",
   "execution_count": 32,
   "id": "2379efbd",
   "metadata": {},
   "outputs": [
    {
     "data": {
      "text/plain": [
       "{'P': 101325.0 <Unit('pascal')>,\n",
       " 'W': 0.015 <Unit('dimensionless')>,\n",
       " 'T': 293.15 <Unit('kelvin')>,\n",
       " 'R': ValueError('The output for key (7) with value (1.01584) is outside the range of validity: (0) to (1) :: inputs were:\"R\",\"T\",2.9314999999999998e+02,\"W\",1.4999999999999999e-02,\"P\",1.0132500000000000e+05 '),\n",
       " 'H': 58166.431230093214 <Unit('joule / kilogram')>,\n",
       " 'S': 207.78828664668217 <Unit('joule / kelvin / kilogram')>,\n",
       " 'B': 293.3257073663906 <Unit('kelvin')>,\n",
       " 'D': 293.4039498500014 <Unit('kelvin')>,\n",
       " 'Vda': 0.8501068744940903 <Unit('meter ** 3 / kilogram')>,\n",
       " 'Vha': 0.8375437187133894 <Unit('meter ** 3 / kilogram')>,\n",
       " 'M': 1.8078509265290083e-05 <Unit('pascal * second')>,\n",
       " 'K': 0.025858022919239887 <Unit('watt / kelvin / meter')>,\n",
       " 'C': 1034.5556663027326 <Unit('joule / kelvin / kilogram')>,\n",
       " 'P_w': 2386.1950403881024 <Unit('pascal')>,\n",
       " 'psi_w': 0.023549914042813744 <Unit('dimensionless')>}"
      ]
     },
     "execution_count": 32,
     "metadata": {},
     "output_type": "execute_result"
    }
   ],
   "source": [
    "pt.args_or_errormessages"
   ]
  }
 ],
 "metadata": {
  "kernelspec": {
   "display_name": "Python 3 (ipykernel)",
   "language": "python",
   "name": "python3"
  },
  "language_info": {
   "codemirror_mode": {
    "name": "ipython",
    "version": 3
   },
   "file_extension": ".py",
   "mimetype": "text/x-python",
   "name": "python",
   "nbconvert_exporter": "python",
   "pygments_lexer": "ipython3",
   "version": "3.10.5"
  }
 },
 "nbformat": 4,
 "nbformat_minor": 5
}
