{
 "cells": [
  {
   "cell_type": "code",
   "execution_count": 1,
   "id": "65d5110f",
   "metadata": {},
   "outputs": [],
   "source": [
    "from fluids import fluid_factory, Q_, p_amb, T_0"
   ]
  },
  {
   "cell_type": "code",
   "execution_count": 2,
   "id": "8af2008c",
   "metadata": {},
   "outputs": [],
   "source": [
    "FLuft = fluid_factory('HumidAir',with_units=True)"
   ]
  },
  {
   "cell_type": "code",
   "execution_count": 3,
   "id": "6de34ffa",
   "metadata": {},
   "outputs": [
    {
     "data": {
      "text/plain": [
       "{'P': 101325.0 <Unit('pascal')>,\n",
       " 'W': 0.008260800650072932 <Unit('dimensionless')>,\n",
       " 'T': 295.15 <Unit('kelvin')>,\n",
       " 'R': 0.5 <Unit('dimensionless')>,\n",
       " 'H': 43119.38085761173 <Unit('joule / kilogram')>,\n",
       " 'S': 155.57812952179884 <Unit('joule / kelvin / kilogram')>,\n",
       " 'B': 288.56891737663403 <Unit('kelvin')>,\n",
       " 'D': 284.2624280248659 <Unit('kelvin')>,\n",
       " 'Vda': 0.8469021858763094 <Unit('meter ** 3 / kilogram')>,\n",
       " 'Vha': 0.8399634155471204 <Unit('meter ** 3 / kilogram')>,\n",
       " 'M': 1.823069583082652e-05 <Unit('pascal * second')>,\n",
       " 'K': 0.026012639378999555 <Unit('watt / kelvin / meter')>,\n",
       " 'C': 1021.7457665363858 <Unit('joule / kelvin / kilogram')>,\n",
       " 'P_w': 1328.1782316272354 <Unit('pascal')>,\n",
       " 'psi_w': 0.013108099991386483 <Unit('dimensionless')>}"
      ]
     },
     "execution_count": 3,
     "metadata": {},
     "output_type": "execute_result"
    }
   ],
   "source": [
    "p_0 = FLuft(T=Q_(22,'degC'),R=Q_(50,'percent'))\n",
    "p_0.args"
   ]
  }
 ],
 "metadata": {
  "kernelspec": {
   "display_name": "Python 3 (ipykernel)",
   "language": "python",
   "name": "python3"
  },
  "language_info": {
   "codemirror_mode": {
    "name": "ipython",
    "version": 3
   },
   "file_extension": ".py",
   "mimetype": "text/x-python",
   "name": "python",
   "nbconvert_exporter": "python",
   "pygments_lexer": "ipython3",
   "version": "3.9.12"
  }
 },
 "nbformat": 4,
 "nbformat_minor": 5
}
